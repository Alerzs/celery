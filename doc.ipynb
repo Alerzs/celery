{
          "cells": [
                    {
                              "cell_type": "markdown",
                              "metadata": {},
                              "source": [
                                        "# Celery worker setup"
                              ]
                    },
                    {
                              "cell_type": "markdown",
                              "metadata": {},
                              "source": [
                                        "1) add celery.py to the main app\n",
                                        "2) add this to setting.py  CELERY_BROKER_URL = os.getenv(\"CELERY_BROKER_URL\", \"redis://redis:6379/0\")\n",
                                        "3) add tasks.py to your app and use @shared_task decorator to define it as a task   "
                              ]
                    },
                    {
                              "cell_type": "markdown",
                              "metadata": {},
                              "source": [
                                        "# Independed Celery worker"
                              ]
                    },
                    {
                              "cell_type": "markdown",
                              "metadata": {},
                              "source": [
                                        "1) make a new directory next to yor project dir \n",
                                        "2) add a celerytask.py and celeryconfig.py to it\n",
                                        "3) add Dockerfile and requirement.txt if you want to build it seperately\n",
                                        "4) in celerytask.py make a new celery instance and choose celeryconfig as a setting file \n",
                                        "    app = Celery('mytask')\n",
                                        "    app.config_from_object('celeryconfig')\n",
                                        "    @app.task\n",
                                        "    def your_task():\n",
                                        "        return\n",
                                        "\n",
                                        "5) add congifs to the celeryconfig.py\n",
                                        "    broker_url = 'redis://redis:6379/0'\n",
                                        "    result_backend = 'redis://redis:6379/0'\n",
                                        "\n",
                                        "6) add a service using this directory to the docker compose file"
                              ]
                    },
                    {
                              "cell_type": "markdown",
                              "metadata": {},
                              "source": [
                                        "## Celery settings"
                              ]
                    },
                    {
                              "cell_type": "code",
                              "execution_count": null,
                              "metadata": {},
                              "outputs": [],
                              "source": [
                                        "'''-------------- celery@44b015f2d5cf v5.5.1 (immunity)\n",
                                        " --- ***** ----- \n",
                                        " -- ******* ---- Linux-6.10.14-linuxkit-x86_64-with-glibc2.36 2025-04-12 06:45:38\n",
                                        " - *** --- * --- \n",
                                        " - ** ---------- [config]\n",
                                        " - ** ---------- .> app:         mytask:0x7f0ddfae1c00\n",
                                        " - ** ---------- .> transport:   redis://redis:6379/0   -----------------------------------> these two lines must be redis\n",
                                        " - ** ---------- .> results:     redis://redis:6379/0   -----------------------------------> these two lines must be redis\n",
                                        " - *** --- * --- .> concurrency: 16 (prefork)\n",
                                        " -- ******* ---- .> task events: OFF (enable -E to monitor tasks in this worker)\n",
                                        " --- ***** ----- \n",
                                        "  -------------- [queues]\n",
                                        "                 .> celery           exchange=celery(direct) key=celery\n",
                                        "                 \n",
                                        " \n",
                                        " [tasks]\n",
                                        "   . celerytask.your_task  ----------------------------> here your detected tasks will be shown                     '''"
                              ]
                    },
                    {
                              "cell_type": "markdown",
                              "metadata": {},
                              "source": [
                                        "# workers routing"
                              ]
                    },
                    {
                              "cell_type": "markdown",
                              "metadata": {},
                              "source": [
                                        "we can route our tasks to diffrent workers and routing could be based on load balance or task types\n",
                                        "\n",
                                        "passing to queue:\n",
                                        "\n",
                                        "1) we use -Q <queueme> flag to set a worker to watch a individuaqueue  celery -A <#filename> worker --loglevel=info -Qqueue2) in order to pass a task to a spicifiedqueuee this command in celery.py\n",
                                        "    app.conf.task_routes = {'newapp.tasks.task1': {queue,}\n",
                                        "    app.conf.task_routes = {'<#task location>': {queue'<queueme>'},}\n",
                                        "\n",
                                        "3) if there is a independed worker we have to import task using this command\n",
                                        "    app.conf.imports = ('newapp.tasks')\n",
                                        "    app.conf.imports = ('<#task location>')\n",
                                        "    +\n",
                                        "    app.autodiscover_tasks()\n",
                                        "\n",
                                        "\n"
                              ]
                    }
          ],
          "metadata": {
                    "kernelspec": {
                              "display_name": "venv",
                              "language": "python",
                              "name": "python3"
                    },
                    "language_info": {
                              "name": "python",
                              "version": "3.12.3"
                    }
          },
          "nbformat": 4,
          "nbformat_minor": 2
}
