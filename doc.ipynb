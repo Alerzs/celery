{
          "cells": [
                    {
                              "cell_type": "markdown",
                              "metadata": {},
                              "source": [
                                        "# Celery worker setup"
                              ]
                    },
                    {
                              "cell_type": "markdown",
                              "metadata": {},
                              "source": [
                                        "1) add <font color='yellow'>celery.py</font> to the main app and add these lines\n",
                                        "<font color='deepskyblue'>\n",
                                        "> from celery import Celery\n",
                                        "\n",
                                        "> os.environ.setdefault(\"DJANGO_SETTINGS_MODULE\", \"celerytst.settings\")\n",
                                        "\n",
                                        "> app.config_from_object(\"django.conf:settings\", namespace=\"CELERY\")\n",
                                        "\n",
                                        "> app.autodiscover_tasks()\n",
                                        "</font>\n",
                                        "2) add this to setting.py  \n",
                                        "<font color='deepskyblue'>\n",
                                        "> CELERY_BROKER_URL = os.getenv(\"CELERY_BROKER_URL\", \"redis://redis:6379/0\")\n",
                                        "</font>\n",
                                        "3) add <font color='yellow'>tasks.py</font> to your app and use <font color='yellow'>@shared_task</font> decorator to define it as a task   "
                              ]
                    },
                    {
                              "cell_type": "markdown",
                              "metadata": {},
                              "source": [
                                        "# Independed Celery worker"
                              ]
                    },
                    {
                              "cell_type": "markdown",
                              "metadata": {},
                              "source": [
                                        "1) make a new directory next to yor project dir \n",
                                        "2) add a <font color='yellow'>celerytask.py</font> and <font color='yellow'>celeryconfig.py</font> to it\n",
                                        "3) add <font color='yellow'>Dockerfile</font> and <font color='yellow'>requirement.txt</font> if you want to build it seperately\n",
                                        "4) in <font color='yellow'>celerytask.py</font> make a new celery instance and choose celeryconfig as a setting file \n",
                                        "<font color='deepskyblue'>\n",
                                        "    > app = Celery('mytask')\n",
                                        "    \n",
                                        "    > app.config_from_object('celeryconfig')\n",
                                        "    \n",
                                        "    > @app.task\n",
                                        "\n",
                                        "    > def your_task():\n",
                                        "    >   return\n",
                                        "</font>\n",
                                        "\n",
                                        "5) add congifs to the celeryconfig.py\n",
                                        "<font color='deepskyblue'>\n",
                                        "    > broker_url = 'redis://redis:6379/0'\n",
                                        "    > result_backend = 'redis://redis:6379/0'\n",
                                        "</font>\n",
                                        "\n",
                                        "6) add a service using this directory to the docker compose file"
                              ]
                    },
                    {
                              "cell_type": "markdown",
                              "metadata": {},
                              "source": [
                                        "## Celery settings"
                              ]
                    },
                    {
                              "cell_type": "code",
                              "execution_count": null,
                              "metadata": {},
                              "outputs": [],
                              "source": [
                                        "'''-------------- celery@44b015f2d5cf v5.5.1 (immunity)\n",
                                        " --- ***** ----- \n",
                                        " -- ******* ---- Linux-6.10.14-linuxkit-x86_64-with-glibc2.36 2025-04-12 06:45:38\n",
                                        " --*** --- * --- \n",
                                        " --** ---------- [config]\n",
                                        " --** ---------- .> app:         mytask:0x7f0ddfae1c00\n",
                                        " --** ---------- .> transport:   redis://redis:6379/0   -----------------------------------> these two lines must be redis\n",
                                        " --** ---------- .> results:     redis://redis:6379/0   -----------------------------------> these two lines must be redis\n",
                                        " --*** --- * --- .> concurrency: 16 (prefork)\n",
                                        " -- ******* ---- .> task events: OFF (enable -E to monitor tasks in this worker)\n",
                                        " --- ***** ----- \n",
                                        "  -------------- [queues]\n",
                                        "                 .> celery           exchange=celery(direct) key=celery\n",
                                        "                 \n",
                                        " \n",
                                        " [tasks]\n",
                                        "   . celerytask.your_task  ----------------------------> here your detected tasks will be shown                     '''"
                              ]
                    },
                    {
                              "cell_type": "markdown",
                              "metadata": {},
                              "source": [
                                        "# Workers routing"
                              ]
                    },
                    {
                              "cell_type": "markdown",
                              "metadata": {},
                              "source": [
                                        "we can route our tasks to diffrent workers and routing could be based on load balance or task types\n",
                                        "\n",
                                        "passing to queue:\n",
                                        "\n",
                                        "1) we use <font color='yellow'>-Q <queuename> flag</font> to set a worker to watch a individuaqueue  <font color='yellow'>celery -A <#filename> worker --loglevel=info -Qqueue2</font> in order to pass a task to a spicifiedqueuee this command in celery.py \n",
                                        "    <font color='deepskyblue'>\n",
                                        "    >app.conf.task_routes = {'newapp.tasks.task1': {'queue':'queue1'}}\n",
                                        "    \n",
                                        "    >app.conf.task_routes = {'<#task location>': {'queue':'<queuename>'},}\n",
                                        "    </font> \n",
                                        "3) if there is a independed worker we have to creat a <font color='yellow'>task.py</font> file and write tasks in there and import task using this command\n",
                                        "    <font color='deepskyblue'>\n",
                                        "    >app.conf.imports = ('newapp.tasks')\n",
                                        "\n",
                                        "    >app.conf.imports = ('<#task location>')\n",
                                        "    \n",
                                        "    >app.autodiscover_tasks()\n",
                                        "    </font>\n",
                                        "\n"
                              ]
                    },
                    {
                              "cell_type": "markdown",
                              "metadata": {},
                              "source": [
                                        "# Tasks priority"
                              ]
                    },
                    {
                              "cell_type": "markdown",
                              "metadata": {},
                              "source": [
                                        "in celery prioritazing could be done in two ways:\n",
                                        "1) set priority to a task\n",
                                        "2) set priority to a queue and put task in them based on your priority\n",
                                        "\n",
                                        "Redis does not support first method and we should use RabitMQ to do that"
                              ]
                    },
                    {
                              "cell_type": "markdown",
                              "metadata": {},
                              "source": [
                                        "### set priority to a queue\n",
                                        "\n",
                                        "1) first set multiple queus for worker in docker-compose \n",
                                        "> celery -A celerytst worker --loglevel=info -Q queue1,queue2,queue3\n",
                                        "remember that when passing -Q queus are sorted based on their priority meaning queue1 > queue2 > queue3\n",
                                        "2) now set each task to a queue using app.conf.task_routes\n",
                                        "app.conf.task_routes = {\n",
                                        "    'newapp.tasks.task1': {'queue':'queue1'}, \n",
                                        "    'newapp.tasks.task2': {'queue':'queue2'},\n",
                                        "    'newapp.tasks.task3': {'queue':'queue3'},\n",
                                        "    }\n",
                                        "3) now task1 is prioritized on task2 and task2 on task3"
                              ]
                    },
                    {
                              "cell_type": "markdown",
                              "metadata": {},
                              "source": [
                                        "# Task groups\n",
                                        "\n",
                                        "we use groups to run multiple tasks together in parallel\n",
                                        "1) first we have to make a group out of tasks with this command\n",
                                        "> from celery import group\n",
                                        "> task_group = group(task1.s(), task2.s(),task3.s())\n",
                                        "2) to execute the task group use\n",
                                        "> task_group.apply_async()\n",
                                        "3) now task1,2,3 are executed together\n"
                              ]
                    }
          ],
          "metadata": {
                    "kernelspec": {
                              "display_name": "venv",
                              "language": "python",
                              "name": "python3"
                    },
                    "language_info": {
                              "name": "python",
                              "version": "3.12.3"
                    }
          },
          "nbformat": 4,
          "nbformat_minor": 2
}
